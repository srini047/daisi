{
 "cells": [
  {
   "cell_type": "markdown",
   "metadata": {},
   "source": [
    "# Text Based Sentiment Analysis"
   ]
  },
  {
   "cell_type": "markdown",
   "metadata": {},
   "source": [
    "# IMPORTING NECESSARY MODULES"
   ]
  },
  {
   "cell_type": "code",
   "execution_count": 1,
   "metadata": {
    "_cell_guid": "b1076dfc-b9ad-4769-8c92-a6c4dae69d19",
    "_uuid": "8f2839f25d086af736a60e9eeb907d3b93b6e0e5",
    "execution": {
     "iopub.execute_input": "2021-03-13T16:27:39.217519Z",
     "iopub.status.busy": "2021-03-13T16:27:39.216547Z",
     "iopub.status.idle": "2021-03-13T16:27:39.234404Z",
     "shell.execute_reply": "2021-03-13T16:27:39.235238Z"
    },
    "papermill": {
     "duration": 0.035859,
     "end_time": "2021-03-13T16:27:39.235853",
     "exception": false,
     "start_time": "2021-03-13T16:27:39.199994",
     "status": "completed"
    },
    "tags": []
   },
   "outputs": [],
   "source": [
    "import numpy as np # For linear algebra\n",
    "import pandas as pd # Data processing, CSV file I/O (e.g. pd.read_csv)\n",
    "import matplotlib.pyplot as plt  # For Visualisation\n",
    "%matplotlib inline\n",
    "import seaborn as sns  # For Visualisation\n",
    "from bs4 import BeautifulSoup  # For Text Parsing"
   ]
  },
  {
   "cell_type": "markdown",
   "metadata": {},
   "source": [
    "# IMPORTING DATASET"
   ]
  },
  {
   "cell_type": "code",
   "execution_count": 2,
   "metadata": {
    "execution": {
     "iopub.execute_input": "2021-03-13T16:27:39.271093Z",
     "iopub.status.busy": "2021-03-13T16:27:39.270285Z",
     "iopub.status.idle": "2021-03-13T16:27:47.294167Z",
     "shell.execute_reply": "2021-03-13T16:27:47.293549Z"
    },
    "papermill": {
     "duration": 8.043911,
     "end_time": "2021-03-13T16:27:47.294319",
     "exception": false,
     "start_time": "2021-03-13T16:27:39.250408",
     "status": "completed"
    },
    "scrolled": true,
    "tags": []
   },
   "outputs": [],
   "source": [
    "data = pd.read_csv('Reviews.csv')\n",
    "# data"
   ]
  },
  {
   "cell_type": "markdown",
   "metadata": {},
   "source": [
    "# DATA PREPROCESSING & VISUALISATION"
   ]
  },
  {
   "cell_type": "code",
   "execution_count": 3,
   "metadata": {
    "execution": {
     "iopub.execute_input": "2021-03-13T16:27:47.637700Z",
     "iopub.status.busy": "2021-03-13T16:27:47.324855Z",
     "iopub.status.idle": "2021-03-13T16:27:47.652536Z",
     "shell.execute_reply": "2021-03-13T16:27:47.651955Z"
    },
    "papermill": {
     "duration": 0.34554,
     "end_time": "2021-03-13T16:27:47.652678",
     "exception": false,
     "start_time": "2021-03-13T16:27:47.307138",
     "status": "completed"
    },
    "tags": []
   },
   "outputs": [],
   "source": [
    "#data.isnull().sum()"
   ]
  },
  {
   "cell_type": "code",
   "execution_count": 4,
   "metadata": {
    "execution": {
     "iopub.execute_input": "2021-03-13T16:27:48.002053Z",
     "iopub.status.busy": "2021-03-13T16:27:47.684503Z",
     "iopub.status.idle": "2021-03-13T16:27:48.435326Z",
     "shell.execute_reply": "2021-03-13T16:27:48.434615Z"
    },
    "papermill": {
     "duration": 0.769449,
     "end_time": "2021-03-13T16:27:48.435483",
     "exception": false,
     "start_time": "2021-03-13T16:27:47.666034",
     "status": "completed"
    },
    "tags": []
   },
   "outputs": [],
   "source": [
    "data=data.dropna()\n",
    "#data.isnull().sum()"
   ]
  },
  {
   "cell_type": "code",
   "execution_count": 5,
   "metadata": {
    "scrolled": true
   },
   "outputs": [],
   "source": [
    "#data.shape"
   ]
  },
  {
   "cell_type": "code",
   "execution_count": 6,
   "metadata": {},
   "outputs": [],
   "source": [
    "score_unique = data['Score'].unique()\n",
    "#print(score_unique)"
   ]
  },
  {
   "cell_type": "code",
   "execution_count": 7,
   "metadata": {
    "execution": {
     "iopub.execute_input": "2021-03-13T16:27:48.506192Z",
     "iopub.status.busy": "2021-03-13T16:27:48.501015Z",
     "iopub.status.idle": "2021-03-13T16:27:48.704122Z",
     "shell.execute_reply": "2021-03-13T16:27:48.703473Z"
    },
    "papermill": {
     "duration": 0.253989,
     "end_time": "2021-03-13T16:27:48.704263",
     "exception": false,
     "start_time": "2021-03-13T16:27:48.450274",
     "status": "completed"
    },
    "tags": []
   },
   "outputs": [],
   "source": [
    "#   0-> NEGATIVE REVIEW\n",
    "#   1-> NEUTRAL REVIEW\n",
    "#   2-> POSTIVE REVIEW\n",
    "a=[]\n",
    "for i in data['Score']:\n",
    "    if i <3:                              \n",
    "        a.append(0)\n",
    "    if i==3:\n",
    "        a.append(1)\n",
    "    if i>3:\n",
    "        a.append(2)"
   ]
  },
  {
   "cell_type": "code",
   "execution_count": 8,
   "metadata": {},
   "outputs": [
    {
     "name": "stdout",
     "output_type": "stream",
     "text": [
      "Negative Reviews: 82007\n",
      "Neutral Reviews: 42638\n",
      "Positive Reviews: 443766\n"
     ]
    }
   ],
   "source": [
    "r_0, r_1, r_2 = 0, 0, 0\n",
    "for i in a:\n",
    "    if i == 0:\n",
    "        r_0 += 1\n",
    "    elif i == 1:\n",
    "        r_1 += 1\n",
    "    else:\n",
    "        r_2 += 1\n",
    "\n",
    "print('Negative Reviews:',r_0)\n",
    "print('Neutral Reviews:',r_1)\n",
    "print('Positive Reviews:',r_2)"
   ]
  },
  {
   "cell_type": "code",
   "execution_count": 9,
   "metadata": {
    "execution": {
     "iopub.execute_input": "2021-03-13T16:27:48.738843Z",
     "iopub.status.busy": "2021-03-13T16:27:48.738209Z",
     "iopub.status.idle": "2021-03-13T16:27:52.191203Z",
     "shell.execute_reply": "2021-03-13T16:27:52.190555Z"
    },
    "papermill": {
     "duration": 3.472218,
     "end_time": "2021-03-13T16:27:52.191341",
     "exception": false,
     "start_time": "2021-03-13T16:27:48.719123",
     "status": "completed"
    },
    "tags": []
   },
   "outputs": [
    {
     "name": "stderr",
     "output_type": "stream",
     "text": [
      "c:\\Users\\Sriniketh J\\anaconda3\\lib\\site-packages\\seaborn\\_decorators.py:36: FutureWarning: Pass the following variable as a keyword arg: x. From version 0.12, the only valid positional argument will be `data`, and passing other arguments without an explicit keyword will result in an error or misinterpretation.\n",
      "  warnings.warn(\n"
     ]
    },
    {
     "data": {
      "image/png": "[encoded data removed]",
      "text/plain": [
       "<Figure size 432x288 with 1 Axes>"
      ]
     },
     "metadata": {
      "needs_background": "light"
     },
     "output_type": "display_data"
    }
   ],
   "source": [
    "sns.countplot(a)\n",
    "plt.xlabel('Reviews', color = 'red')\n",
    "plt.ylabel('Count', color = 'red')\n",
    "plt.xticks([0,1,2],['Negative','Neutral','Positive'])\n",
    "plt.title('COUNT PLOT', color = 'r')\n",
    "plt.show()"
   ]
  },
  {
   "cell_type": "code",
   "execution_count": 10,
   "metadata": {
    "execution": {
     "iopub.execute_input": "2021-03-13T16:27:52.228983Z",
     "iopub.status.busy": "2021-03-13T16:27:52.228227Z",
     "iopub.status.idle": "2021-03-13T16:27:52.525964Z",
     "shell.execute_reply": "2021-03-13T16:27:52.525241Z"
    },
    "papermill": {
     "duration": 0.318919,
     "end_time": "2021-03-13T16:27:52.526112",
     "exception": false,
     "start_time": "2021-03-13T16:27:52.207193",
     "status": "completed"
    },
    "tags": []
   },
   "outputs": [],
   "source": [
    "data['sentiment']=a\n",
    "#data\n",
    "final_dataset = data[['Text','sentiment']]\n",
    "#final_dataset"
   ]
  },
  {
   "cell_type": "code",
   "execution_count": 11,
   "metadata": {
    "execution": {
     "iopub.execute_input": "2021-03-13T16:27:52.564895Z",
     "iopub.status.busy": "2021-03-13T16:27:52.564247Z",
     "iopub.status.idle": "2021-03-13T16:27:52.602794Z",
     "shell.execute_reply": "2021-03-13T16:27:52.601774Z"
    },
    "papermill": {
     "duration": 0.06016,
     "end_time": "2021-03-13T16:27:52.602941",
     "exception": false,
     "start_time": "2021-03-13T16:27:52.542781",
     "status": "completed"
    },
    "tags": []
   },
   "outputs": [],
   "source": [
    "data_p=final_dataset[data['sentiment']==2]\n",
    "data_n=final_dataset[data['sentiment']==0]\n",
    "#len(data_p), len(data_n)"
   ]
  },
  {
   "cell_type": "code",
   "execution_count": 12,
   "metadata": {
    "execution": {
     "iopub.execute_input": "2021-03-13T16:27:52.645015Z",
     "iopub.status.busy": "2021-03-13T16:27:52.644154Z",
     "iopub.status.idle": "2021-03-13T16:27:52.653374Z",
     "shell.execute_reply": "2021-03-13T16:27:52.652758Z"
    },
    "papermill": {
     "duration": 0.034092,
     "end_time": "2021-03-13T16:27:52.653525",
     "exception": false,
     "start_time": "2021-03-13T16:27:52.619433",
     "status": "completed"
    },
    "tags": []
   },
   "outputs": [],
   "source": [
    "datap = data_p.iloc[np.random.randint(1,443766,5000), :]\n",
    "datan = data_n.iloc[np.random.randint(1, 82007,5000), :]\n",
    "#len(datan), len(datap)"
   ]
  },
  {
   "cell_type": "code",
   "execution_count": 13,
   "metadata": {
    "execution": {
     "iopub.execute_input": "2021-03-13T16:27:52.718098Z",
     "iopub.status.busy": "2021-03-13T16:27:52.696002Z",
     "iopub.status.idle": "2021-03-13T16:27:52.722428Z",
     "shell.execute_reply": "2021-03-13T16:27:52.723006Z"
    },
    "papermill": {
     "duration": 0.052498,
     "end_time": "2021-03-13T16:27:52.723175",
     "exception": false,
     "start_time": "2021-03-13T16:27:52.670677",
     "status": "completed"
    },
    "tags": []
   },
   "outputs": [
    {
     "data": {
      "text/plain": [
       "10000"
      ]
     },
     "execution_count": 13,
     "metadata": {},
     "output_type": "execute_result"
    }
   ],
   "source": [
    "data = pd.concat([datap,datan])\n",
    "len(data)"
   ]
  },
  {
   "cell_type": "code",
   "execution_count": 14,
   "metadata": {
    "execution": {
     "iopub.execute_input": "2021-03-13T16:27:52.761247Z",
     "iopub.status.busy": "2021-03-13T16:27:52.760643Z",
     "iopub.status.idle": "2021-03-13T16:27:52.773854Z",
     "shell.execute_reply": "2021-03-13T16:27:52.774377Z"
    },
    "papermill": {
     "duration": 0.034064,
     "end_time": "2021-03-13T16:27:52.774563",
     "exception": false,
     "start_time": "2021-03-13T16:27:52.740499",
     "status": "completed"
    },
    "tags": []
   },
   "outputs": [],
   "source": [
    "c=[]\n",
    "for i in data['sentiment']:\n",
    "    if i==0:\n",
    "        c.append(0)\n",
    "    if i==2:\n",
    "        c.append(1)\n",
    "data['sentiment']=c"
   ]
  },
  {
   "cell_type": "code",
   "execution_count": 15,
   "metadata": {
    "execution": {
     "iopub.execute_input": "2021-03-13T16:27:52.813343Z",
     "iopub.status.busy": "2021-03-13T16:27:52.812696Z",
     "iopub.status.idle": "2021-03-13T16:27:52.931829Z",
     "shell.execute_reply": "2021-03-13T16:27:52.932370Z"
    },
    "papermill": {
     "duration": 0.140594,
     "end_time": "2021-03-13T16:27:52.932569",
     "exception": false,
     "start_time": "2021-03-13T16:27:52.791975",
     "status": "completed"
    },
    "scrolled": true,
    "tags": []
   },
   "outputs": [
    {
     "name": "stderr",
     "output_type": "stream",
     "text": [
      "c:\\Users\\Sriniketh J\\anaconda3\\lib\\site-packages\\seaborn\\_decorators.py:36: FutureWarning: Pass the following variable as a keyword arg: x. From version 0.12, the only valid positional argument will be `data`, and passing other arguments without an explicit keyword will result in an error or misinterpretation.\n",
      "  warnings.warn(\n"
     ]
    },
    {
     "data": {
      "image/png": "[encoded data removed]",
      "text/plain": [
       "<Figure size 432x288 with 1 Axes>"
      ]
     },
     "metadata": {
      "needs_background": "light"
     },
     "output_type": "display_data"
    }
   ],
   "source": [
    "sns.countplot(data['sentiment'])\n",
    "plt.show()"
   ]
  },
  {
   "cell_type": "code",
   "execution_count": 16,
   "metadata": {
    "execution": {
     "iopub.execute_input": "2021-03-13T16:27:52.976139Z",
     "iopub.status.busy": "2021-03-13T16:27:52.975221Z",
     "iopub.status.idle": "2021-03-13T16:28:06.765174Z",
     "shell.execute_reply": "2021-03-13T16:28:06.764583Z"
    },
    "papermill": {
     "duration": 13.812836,
     "end_time": "2021-03-13T16:28:06.765326",
     "exception": false,
     "start_time": "2021-03-13T16:27:52.952490",
     "status": "completed"
    },
    "tags": []
   },
   "outputs": [],
   "source": [
    "def strip_html(text):\n",
    "    soup = BeautifulSoup(text, \"html.parser\")\n",
    "    return soup.get_text()\n",
    "data['review'] = data['Text'].apply(strip_html)\n",
    "\n",
    "data=data.drop('Text',axis=1)\n",
    "\n",
    "#data.head()"
   ]
  },
  {
   "cell_type": "markdown",
   "metadata": {},
   "source": [
    "# MODEL BUILDING"
   ]
  },
  {
   "cell_type": "code",
   "execution_count": 17,
   "metadata": {
    "execution": {
     "iopub.execute_input": "2021-03-13T16:28:06.822582Z",
     "iopub.status.busy": "2021-03-13T16:28:06.821370Z",
     "iopub.status.idle": "2021-03-13T16:28:08.280602Z",
     "shell.execute_reply": "2021-03-13T16:28:08.279914Z"
    },
    "papermill": {
     "duration": 1.490321,
     "end_time": "2021-03-13T16:28:08.280749",
     "exception": false,
     "start_time": "2021-03-13T16:28:06.790428",
     "status": "completed"
    },
    "tags": []
   },
   "outputs": [],
   "source": [
    "import nltk  #Natural Language Processing Toolkit\n",
    "def punc_clean(text):\n",
    "    import string as st\n",
    "    a=[w for w in text if w not in st.punctuation]\n",
    "    return ''.join(a)\n",
    "data['review'] = data['review'].apply(punc_clean)\n",
    "#data.head(2)"
   ]
  },
  {
   "cell_type": "code",
   "execution_count": 18,
   "metadata": {
    "execution": {
     "iopub.execute_input": "2021-03-13T16:28:08.340787Z",
     "iopub.status.busy": "2021-03-13T16:28:08.340120Z",
     "iopub.status.idle": "2021-03-13T16:28:18.825059Z",
     "shell.execute_reply": "2021-03-13T16:28:18.824303Z"
    },
    "papermill": {
     "duration": 10.518179,
     "end_time": "2021-03-13T16:28:18.825205",
     "exception": false,
     "start_time": "2021-03-13T16:28:08.307026",
     "status": "completed"
    },
    "tags": []
   },
   "outputs": [],
   "source": [
    "def remove_stopword(text):\n",
    "    stopword=nltk.corpus.stopwords.words('english')\n",
    "    stopword.remove('not')\n",
    "    a=[w for w in nltk.word_tokenize(text) if w not in stopword]\n",
    "    return ' '.join(a)\n",
    "#data['review'] = data['review'].apply(remove_stopword)"
   ]
  },
  {
   "cell_type": "code",
   "execution_count": 19,
   "metadata": {
    "execution": {
     "iopub.execute_input": "2021-03-13T16:28:18.921507Z",
     "iopub.status.busy": "2021-03-13T16:28:18.916495Z",
     "iopub.status.idle": "2021-03-13T16:28:21.553576Z",
     "shell.execute_reply": "2021-03-13T16:28:21.553032Z"
    },
    "papermill": {
     "duration": 2.703145,
     "end_time": "2021-03-13T16:28:21.553726",
     "exception": false,
     "start_time": "2021-03-13T16:28:18.850581",
     "status": "completed"
    },
    "tags": []
   },
   "outputs": [],
   "source": [
    "from sklearn.feature_extraction.text import TfidfVectorizer\n",
    "\n",
    "vectr = TfidfVectorizer(ngram_range=(1,2),min_df=1)\n",
    "vectr.fit(data['review'])\n",
    "\n",
    "vect_X = vectr.transform(data['review'])"
   ]
  },
  {
   "cell_type": "code",
   "execution_count": 20,
   "metadata": {
    "execution": {
     "iopub.execute_input": "2021-03-13T16:28:21.612076Z",
     "iopub.status.busy": "2021-03-13T16:28:21.611368Z",
     "iopub.status.idle": "2021-03-13T16:28:22.028403Z",
     "shell.execute_reply": "2021-03-13T16:28:22.029297Z"
    },
    "papermill": {
     "duration": 0.44834,
     "end_time": "2021-03-13T16:28:22.029590",
     "exception": false,
     "start_time": "2021-03-13T16:28:21.581250",
     "status": "completed"
    },
    "scrolled": true,
    "tags": []
   },
   "outputs": [],
   "source": [
    "from sklearn.linear_model import LogisticRegression\n",
    "\n",
    "model = LogisticRegression()\n",
    "\n",
    "clf=model.fit(vect_X,data['sentiment'])\n",
    "#clf.score(vect_X,data['sentiment'])*100"
   ]
  },
  {
   "cell_type": "markdown",
   "metadata": {},
   "source": [
    "# PREDICTION"
   ]
  },
  {
   "cell_type": "code",
   "execution_count": null,
   "metadata": {},
   "outputs": [],
   "source": [
    "def prediction(comments):\n",
    "    \"\"\"\n",
    "    This function is used to get the prediction of a comment.\n",
    "    \"\"\"\n",
    "    sentiment = ;\n",
    "    if (clf.predict(vectr.transform([comments]))):\n",
    "        return \"Positive Comment😊\"\n",
    "    else:\n",
    "        return \"Negative Comment😞\""
   ]
  },
  {
   "cell_type": "code",
   "execution_count": 31,
   "metadata": {
    "execution": {
     "iopub.execute_input": "2021-03-13T16:28:22.140180Z",
     "iopub.status.busy": "2021-03-13T16:28:22.139557Z",
     "iopub.status.idle": "2021-03-13T16:28:22.142422Z",
     "shell.execute_reply": "2021-03-13T16:28:22.142902Z"
    },
    "papermill": {
     "duration": 0.062393,
     "end_time": "2021-03-13T16:28:22.143073",
     "exception": false,
     "start_time": "2021-03-13T16:28:22.080680",
     "status": "completed"
    },
    "tags": []
   },
   "outputs": [
    {
     "data": {
      "text/plain": [
       "array([1], dtype=int64)"
      ]
     },
     "execution_count": 31,
     "metadata": {},
     "output_type": "execute_result"
    }
   ],
   "source": [
    "clf.predict(vectr.transform(['''Nice look and build quality with moderately fast everything such as refresh rate, display quality, sound, processing, gaming experience and many more ..\n",
    "I didn't find any lagging or heating issue..And battery health I won't say great but I'll take that Only cons I can say about it is camera.. sharpening picture a little much at day light and low light photo you have to compromise.''']))"
   ]
  },
  {
   "cell_type": "code",
   "execution_count": 32,
   "metadata": {
    "execution": {
     "iopub.execute_input": "2021-03-13T16:28:22.201709Z",
     "iopub.status.busy": "2021-03-13T16:28:22.201077Z",
     "iopub.status.idle": "2021-03-13T16:28:22.207320Z",
     "shell.execute_reply": "2021-03-13T16:28:22.208108Z"
    },
    "papermill": {
     "duration": 0.036995,
     "end_time": "2021-03-13T16:28:22.208319",
     "exception": false,
     "start_time": "2021-03-13T16:28:22.171324",
     "status": "completed"
    },
    "tags": []
   },
   "outputs": [
    {
     "data": {
      "text/plain": [
       "array([0], dtype=int64)"
      ]
     },
     "execution_count": 32,
     "metadata": {},
     "output_type": "execute_result"
    }
   ],
   "source": [
    "clf.predict(vectr.transform(['''Phone has bugs , and screen quality is poor , Avoid realme. Gaming was just over hyped''']))"
   ]
  },
  {
   "cell_type": "code",
   "execution_count": 33,
   "metadata": {},
   "outputs": [
    {
     "data": {
      "text/plain": [
       "array([1], dtype=int64)"
      ]
     },
     "execution_count": 33,
     "metadata": {},
     "output_type": "execute_result"
    }
   ],
   "source": [
    "clf.predict(vectr.transform(['''No lags found super speed and very good performance nice phone in this budget''']))"
   ]
  },
  {
   "cell_type": "code",
   "execution_count": null,
   "metadata": {},
   "outputs": [],
   "source": []
  }
 ],
 "metadata": {
  "kernelspec": {
   "display_name": "Python 3 (ipykernel)",
   "language": "python",
   "name": "python3"
  },
  "language_info": {
   "codemirror_mode": {
    "name": "ipython",
    "version": 3
   },
   "file_extension": ".py",
   "mimetype": "text/x-python",
   "name": "python",
   "nbconvert_exporter": "python",
   "pygments_lexer": "ipython3",
   "version": "3.8.12"
  },
  "papermill": {
   "default_parameters": {},
   "duration": 50.126058,
   "end_time": "2021-03-13T16:28:23.248091",
   "environment_variables": {},
   "exception": null,
   "input_path": "__notebook__.ipynb",
   "output_path": "__notebook__.ipynb",
   "parameters": {},
   "start_time": "2021-03-13T16:27:33.122033",
   "version": "2.2.2"
  },
  "vscode": {
   "interpreter": {
    "hash": "1a98dfdbf5f4dedf5e8d8f4bfd1359a63aa6179b015a1f011f140876f85c4cf3"
   }
  }
 },
 "nbformat": 4,
 "nbformat_minor": 4
}
